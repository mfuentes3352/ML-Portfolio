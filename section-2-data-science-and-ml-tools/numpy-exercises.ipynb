{
 "cells": [
  {
   "cell_type": "markdown",
   "metadata": {},
   "source": [
    "# NumPy Practice\n",
    "\n",
    "This notebook offers a set of exercises for different tasks with NumPy.\n",
    "\n",
    "It should be noted there may be more than one different way to answer a question or complete an exercise.\n",
    "\n",
    "Exercises are based off (and directly taken from) the quick introduction to NumPy notebook.\n",
    "\n",
    "Different tasks will be detailed by comments or text.\n",
    "\n",
    "For further reference and resources, it's advised to check out the [NumPy documentation](https://numpy.org/devdocs/user/index.html).\n",
    "\n",
    "And if you get stuck, try searching for a question in the following format: \"how to do XYZ with numpy\", where XYZ is the function you want to leverage from NumPy."
   ]
  },
  {
   "cell_type": "code",
   "execution_count": 1,
   "metadata": {},
   "outputs": [],
   "source": [
    "# Import NumPy as its abbreviation 'np'\n",
    "import numpy as np"
   ]
  },
  {
   "cell_type": "code",
   "execution_count": 2,
   "metadata": {},
   "outputs": [],
   "source": [
    "# Create a 1-dimensional NumPy array using np.array()\n",
    "a = np.array([7, 8, 9])\n",
    "\n",
    "# Create a 2-dimensional NumPy array using np.array()\n",
    "b = np.array([[10.7, 12.6, 14.8],\n",
    "             [170, 117, 182]])\n",
    "\n",
    "# Create a 3-dimensional Numpy array using np.array()\n",
    "c = np.array([[[21, 9, 12],\n",
    "               [1, 28, 2],\n",
    "               [2, 31, 12]],\n",
    "              \n",
    "              [[1, 3, 9],\n",
    "               [15, 13, 1],\n",
    "               [28, 30, 9]]])"
   ]
  },
  {
   "cell_type": "markdown",
   "metadata": {},
   "source": [
    "Now we've you've created 3 different arrays, let's find details about them.\n",
    "\n",
    "Find the shape, number of dimensions, data type, size and type of each array."
   ]
  },
  {
   "cell_type": "code",
   "execution_count": 3,
   "metadata": {},
   "outputs": [
    {
     "data": {
      "text/plain": [
       "(1, 'int32', dtype('int32'), 3, numpy.ndarray, (3,))"
      ]
     },
     "execution_count": 3,
     "metadata": {},
     "output_type": "execute_result"
    }
   ],
   "source": [
    "# Attributes of 1-dimensional array (shape, \n",
    "# number of dimensions, data type, size and type)\n",
    "a.ndim, a.dtype.name, a.dtype, a.size, type(a), a.shape "
   ]
  },
  {
   "cell_type": "code",
   "execution_count": 5,
   "metadata": {},
   "outputs": [
    {
     "data": {
      "text/plain": [
       "(2, 'float64', 6, numpy.ndarray, (2, 3))"
      ]
     },
     "execution_count": 5,
     "metadata": {},
     "output_type": "execute_result"
    }
   ],
   "source": [
    "# Attributes of 2-dimensional array\n",
    "b.ndim, b.dtype.name, b.size, type(b), b.shape"
   ]
  },
  {
   "cell_type": "code",
   "execution_count": 6,
   "metadata": {},
   "outputs": [
    {
     "data": {
      "text/plain": [
       "(3, 'int32', 18, numpy.ndarray, (2, 3, 3))"
      ]
     },
     "execution_count": 6,
     "metadata": {},
     "output_type": "execute_result"
    }
   ],
   "source": [
    "# Attributes of 3-dimensional array\n",
    "c.ndim, c.dtype.name, c.size, type(c), c.shape"
   ]
  },
  {
   "cell_type": "code",
   "execution_count": 7,
   "metadata": {},
   "outputs": [
    {
     "data": {
      "text/html": [
       "<div>\n",
       "<style scoped>\n",
       "    .dataframe tbody tr th:only-of-type {\n",
       "        vertical-align: middle;\n",
       "    }\n",
       "\n",
       "    .dataframe tbody tr th {\n",
       "        vertical-align: top;\n",
       "    }\n",
       "\n",
       "    .dataframe thead th {\n",
       "        text-align: right;\n",
       "    }\n",
       "</style>\n",
       "<table border=\"1\" class=\"dataframe\">\n",
       "  <thead>\n",
       "    <tr style=\"text-align: right;\">\n",
       "      <th></th>\n",
       "      <th>0</th>\n",
       "      <th>1</th>\n",
       "      <th>2</th>\n",
       "    </tr>\n",
       "  </thead>\n",
       "  <tbody>\n",
       "    <tr>\n",
       "      <th>0</th>\n",
       "      <td>10.7</td>\n",
       "      <td>12.6</td>\n",
       "      <td>14.8</td>\n",
       "    </tr>\n",
       "    <tr>\n",
       "      <th>1</th>\n",
       "      <td>170.0</td>\n",
       "      <td>117.0</td>\n",
       "      <td>182.0</td>\n",
       "    </tr>\n",
       "  </tbody>\n",
       "</table>\n",
       "</div>"
      ],
      "text/plain": [
       "       0      1      2\n",
       "0   10.7   12.6   14.8\n",
       "1  170.0  117.0  182.0"
      ]
     },
     "execution_count": 7,
     "metadata": {},
     "output_type": "execute_result"
    }
   ],
   "source": [
    "# Import pandas and create a DataFrame out of one\n",
    "# of the arrays you've created\n",
    "import pandas as pd\n",
    "\n",
    "df = pd.DataFrame(b)\n",
    "df"
   ]
  },
  {
   "cell_type": "code",
   "execution_count": 11,
   "metadata": {},
   "outputs": [
    {
     "data": {
      "text/plain": [
       "array([[1., 1.],\n",
       "       [1., 1.],\n",
       "       [1., 1.],\n",
       "       [1., 1.],\n",
       "       [1., 1.],\n",
       "       [1., 1.],\n",
       "       [1., 1.],\n",
       "       [1., 1.],\n",
       "       [1., 1.],\n",
       "       [1., 1.]])"
      ]
     },
     "execution_count": 11,
     "metadata": {},
     "output_type": "execute_result"
    }
   ],
   "source": [
    "# Create an array of shape (10, 2) with only ones\n",
    "ones = np.ones((10,2))\n",
    "ones"
   ]
  },
  {
   "cell_type": "code",
   "execution_count": 12,
   "metadata": {},
   "outputs": [
    {
     "data": {
      "text/plain": [
       "array([[[0., 0., 0.],\n",
       "        [0., 0., 0.]],\n",
       "\n",
       "       [[0., 0., 0.],\n",
       "        [0., 0., 0.]],\n",
       "\n",
       "       [[0., 0., 0.],\n",
       "        [0., 0., 0.]],\n",
       "\n",
       "       [[0., 0., 0.],\n",
       "        [0., 0., 0.]],\n",
       "\n",
       "       [[0., 0., 0.],\n",
       "        [0., 0., 0.]],\n",
       "\n",
       "       [[0., 0., 0.],\n",
       "        [0., 0., 0.]],\n",
       "\n",
       "       [[0., 0., 0.],\n",
       "        [0., 0., 0.]]])"
      ]
     },
     "execution_count": 12,
     "metadata": {},
     "output_type": "execute_result"
    }
   ],
   "source": [
    "# Create an array of shape (7, 2, 3) of only zeros\n",
    "zeros = np.zeros((7, 2, 3))\n",
    "zeros"
   ]
  },
  {
   "cell_type": "code",
   "execution_count": 13,
   "metadata": {},
   "outputs": [
    {
     "data": {
      "text/plain": [
       "array([ 0,  3,  6,  9, 12, 15, 18, 21, 24, 27, 30, 33, 36, 39, 42, 45, 48,\n",
       "       51, 54, 57, 60, 63, 66, 69, 72, 75, 78, 81, 84, 87, 90, 93, 96, 99])"
      ]
     },
     "execution_count": 13,
     "metadata": {},
     "output_type": "execute_result"
    }
   ],
   "source": [
    "# Create an array within a range of 0 and 100 with step 3\n",
    "d = np.array(range(0, 100, 3))\n",
    "d\n",
    "# otra opcion: range_array = np.arange(0, 100, 3)"
   ]
  },
  {
   "cell_type": "code",
   "execution_count": 14,
   "metadata": {},
   "outputs": [
    {
     "data": {
      "text/plain": [
       "array([[5, 0],\n",
       "       [3, 3],\n",
       "       [7, 9],\n",
       "       [3, 5],\n",
       "       [2, 4],\n",
       "       [7, 6],\n",
       "       [8, 8]])"
      ]
     },
     "execution_count": 14,
     "metadata": {},
     "output_type": "execute_result"
    }
   ],
   "source": [
    "# Create a random array with numbers between 0 and 10 of size (7, 2)\n",
    "np.random.seed(0)\n",
    "e = np.random.randint(0, 10, size=(7,2))\n",
    "e"
   ]
  },
  {
   "cell_type": "code",
   "execution_count": 15,
   "metadata": {},
   "outputs": [
    {
     "data": {
      "text/plain": [
       "array([[0.5488135 , 0.71518937, 0.60276338, 0.54488318, 0.4236548 ],\n",
       "       [0.64589411, 0.43758721, 0.891773  , 0.96366276, 0.38344152],\n",
       "       [0.79172504, 0.52889492, 0.56804456, 0.92559664, 0.07103606]])"
      ]
     },
     "execution_count": 15,
     "metadata": {},
     "output_type": "execute_result"
    }
   ],
   "source": [
    "# Create a random array of floats between 0 & 1 of shape (3, 5)\n",
    "np.random.seed(0)\n",
    "f = np.random.random((3,5))\n",
    "f"
   ]
  },
  {
   "cell_type": "code",
   "execution_count": 18,
   "metadata": {},
   "outputs": [
    {
     "data": {
      "text/plain": [
       "array([[6, 3, 7, 4, 6, 9],\n",
       "       [2, 6, 7, 4, 3, 7],\n",
       "       [7, 2, 5, 4, 1, 7],\n",
       "       [5, 1, 4, 0, 9, 5]])"
      ]
     },
     "execution_count": 18,
     "metadata": {},
     "output_type": "execute_result"
    }
   ],
   "source": [
    "# Set the random seed to 42\n",
    "np.random.seed(seed=42)\n",
    "\n",
    "# Create a random array of numbers between 0 & 10 of size (4, 6)\n",
    "g = np.random.randint(0, 10, size=(4,6))\n",
    "g"
   ]
  },
  {
   "cell_type": "markdown",
   "metadata": {},
   "source": [
    "Run the cell above again, what happens?\n",
    "\n",
    "Are the numbers in the array different or the same? Why do think this is?"
   ]
  },
  {
   "cell_type": "code",
   "execution_count": 28,
   "metadata": {},
   "outputs": [
    {
     "name": "stdout",
     "output_type": "stream",
     "text": [
      "Array h:\n",
      " [[9 7 8 7 1 9 8]\n",
      " [7 1 8 5 1 7 5]\n",
      " [6 6 9 6 9 8 4]]\n"
     ]
    }
   ],
   "source": [
    "# Create an array of random numbers between 1 & 10 of size (3, 7)\n",
    "# and save it to a variable\n",
    "np.random.seed(seed=14)\n",
    "h = np.random.randint(1, 10, size=(3,7))\n",
    "print(\"Array h:\\n\", h)"
   ]
  },
  {
   "cell_type": "code",
   "execution_count": 24,
   "metadata": {},
   "outputs": [
    {
     "data": {
      "text/plain": [
       "array([1, 4, 5, 6, 7, 8, 9])"
      ]
     },
     "execution_count": 24,
     "metadata": {},
     "output_type": "execute_result"
    }
   ],
   "source": [
    "# Find the unique numbers in the array you just created\n",
    "np.unique(h)\n",
    "# np.unique(array) Devuelve los elementos únicos ordenados de una matriz.\n",
    "# https://numpy.org/doc/stable/reference/generated/numpy.unique.html"
   ]
  },
  {
   "cell_type": "code",
   "execution_count": 35,
   "metadata": {},
   "outputs": [
    {
     "name": "stdout",
     "output_type": "stream",
     "text": [
      "0'th index of the array (first row):\n",
      " [9 7 8 7 1 9 8]\n"
     ]
    }
   ],
   "source": [
    "# Find the 0'th index of the latest array you created (acceder a la primera fila del arreglo h)\n",
    "first_row = h[0] \n",
    "print(\"0'th index of the array (first row):\\n\", first_row)"
   ]
  },
  {
   "cell_type": "code",
   "execution_count": 37,
   "metadata": {},
   "outputs": [
    {
     "name": "stdout",
     "output_type": "stream",
     "text": [
      "First 2 rows of the array h:\n",
      " [[9 7 8 7 1 9 8]\n",
      " [7 1 8 5 1 7 5]]\n"
     ]
    }
   ],
   "source": [
    "# Get the first 2 rows of latest array you created\n",
    "first_2_rows = h[:2]\n",
    "print(\"First 2 rows of the array h:\\n\", first_2_rows)"
   ]
  },
  {
   "cell_type": "code",
   "execution_count": 38,
   "metadata": {},
   "outputs": [
    {
     "name": "stdout",
     "output_type": "stream",
     "text": [
      "First 2 values of the first 2 rows of the array h:\n",
      " [[9 7]\n",
      " [7 1]]\n"
     ]
    }
   ],
   "source": [
    "# Get the first 2 values of the first 2 rows of the latest array\n",
    "first2val_1st2rows = h[:2,:2]\n",
    "print(\"First 2 values of the first 2 rows of the array h:\\n\",first2val_1st2rows)"
   ]
  },
  {
   "cell_type": "code",
   "execution_count": 53,
   "metadata": {},
   "outputs": [
    {
     "data": {
      "text/plain": [
       "(array([[4, 0, 1, 5, 0],\n",
       "        [3, 1, 2, 7, 0],\n",
       "        [3, 2, 9, 1, 2]]),\n",
       " array([[1., 1., 1., 1., 1.],\n",
       "        [1., 1., 1., 1., 1.],\n",
       "        [1., 1., 1., 1., 1.]]))"
      ]
     },
     "execution_count": 53,
     "metadata": {},
     "output_type": "execute_result"
    }
   ],
   "source": [
    "# Create a random array of numbers between 0 & 10 and an array of ones\n",
    "# both of size (3, 5), save them both to variables\n",
    "np.random.seed(seed=43)\n",
    "i = np.random.randint(0, 10, size=(3,5))\n",
    "j = np.ones((3,5))\n",
    "i, j"
   ]
  },
  {
   "cell_type": "code",
   "execution_count": 54,
   "metadata": {},
   "outputs": [
    {
     "name": "stdout",
     "output_type": "stream",
     "text": [
      "The sum of the two arrays created is:\n",
      " [[ 5.  1.  2.  6.  1.]\n",
      " [ 4.  2.  3.  8.  1.]\n",
      " [ 4.  3. 10.  2.  3.]]\n"
     ]
    }
   ],
   "source": [
    "# Add the two arrays together\n",
    "sum_array = i+j \n",
    "print(\"The sum of the two arrays created is:\\n\",sum_array)"
   ]
  },
  {
   "cell_type": "code",
   "execution_count": 44,
   "metadata": {},
   "outputs": [
    {
     "data": {
      "text/plain": [
       "(array([[1., 1., 1.],\n",
       "        [1., 1., 1.],\n",
       "        [1., 1., 1.],\n",
       "        [1., 1., 1.],\n",
       "        [1., 1., 1.]]),\n",
       " (5, 3))"
      ]
     },
     "execution_count": 44,
     "metadata": {},
     "output_type": "execute_result"
    }
   ],
   "source": [
    "# Create another array of ones of shape (5, 3)\n",
    "k = np.ones((5,3))\n",
    "k, k.shape"
   ]
  },
  {
   "cell_type": "code",
   "execution_count": 45,
   "metadata": {},
   "outputs": [
    {
     "ename": "ValueError",
     "evalue": "operands could not be broadcast together with shapes (3,5) (5,3) ",
     "output_type": "error",
     "traceback": [
      "\u001b[1;31m---------------------------------------------------------------------------\u001b[0m",
      "\u001b[1;31mValueError\u001b[0m                                Traceback (most recent call last)",
      "Cell \u001b[1;32mIn[45], line 2\u001b[0m\n\u001b[0;32m      1\u001b[0m \u001b[38;5;66;03m# Try add the array of ones and the other most recent array together\u001b[39;00m\n\u001b[1;32m----> 2\u001b[0m j \u001b[38;5;241m+\u001b[39m k\n",
      "\u001b[1;31mValueError\u001b[0m: operands could not be broadcast together with shapes (3,5) (5,3) "
     ]
    }
   ],
   "source": [
    "# Try add the array of ones and the other most recent array together\n",
    "j + k\n",
    "# logicamente, retornará error porque los arreglos son de distinta dimension\n",
    "# j es de dimension (3,5) mientras que k es de dimensión (5,3). Si se requieren\n",
    "# sumar arreglos estos deben ser de la misma dimensión."
   ]
  },
  {
   "cell_type": "markdown",
   "metadata": {},
   "source": [
    "When you try the last cell, it produces an error. Why do think this is?\n",
    "\n",
    "How would you fix it?"
   ]
  },
  {
   "cell_type": "code",
   "execution_count": 47,
   "metadata": {},
   "outputs": [
    {
     "data": {
      "text/plain": [
       "((3, 5), (3, 5))"
      ]
     },
     "execution_count": 47,
     "metadata": {},
     "output_type": "execute_result"
    }
   ],
   "source": [
    "# ¿como lo arreglaria? cambiando la dimension de k para que coincidan, \n",
    "# trasponiendo k, por ejemplo, así:\n",
    "j + k.T\n",
    "j.shape, k.T.shape\n",
    "# dado que ahora las dimensiones coinciden, entonces sí se puede efectuar la suma de matrices"
   ]
  },
  {
   "cell_type": "code",
   "execution_count": 55,
   "metadata": {},
   "outputs": [
    {
     "data": {
      "text/plain": [
       "array([[1., 1., 1., 1., 1.],\n",
       "       [1., 1., 1., 1., 1.],\n",
       "       [1., 1., 1., 1., 1.]])"
      ]
     },
     "execution_count": 55,
     "metadata": {},
     "output_type": "execute_result"
    }
   ],
   "source": [
    "# Create another array of ones of shape (3, 5)\n",
    "l = np.ones((3,5))\n",
    "l"
   ]
  },
  {
   "cell_type": "code",
   "execution_count": 58,
   "metadata": {},
   "outputs": [
    {
     "name": "stdout",
     "output_type": "stream",
     "text": [
      "Recordemos, el arreglo mas reciente que creamos es este:\n",
      " [[ 5.  1.  2.  6.  1.]\n",
      " [ 4.  2.  3.  8.  1.]\n",
      " [ 4.  3. 10.  2.  3.]]\n",
      "Sustraemos el nuevo arreglo de unos al arreglo anterior:\n",
      " [[4. 0. 1. 5. 0.]\n",
      " [3. 1. 2. 7. 0.]\n",
      " [3. 2. 9. 1. 2.]]\n"
     ]
    }
   ],
   "source": [
    "# Subtract the new array of ones from the other most recent array\n",
    "print(\"Recordemos, el arreglo mas reciente que creamos es este:\\n\", sum_array)\n",
    "m = sum_array - l\n",
    "print(\"Sustraemos el nuevo arreglo de unos al arreglo anterior:\\n\", m)\n"
   ]
  },
  {
   "cell_type": "code",
   "execution_count": 61,
   "metadata": {},
   "outputs": [
    {
     "data": {
      "text/plain": [
       "array([[4., 0., 1., 5., 0.],\n",
       "       [3., 1., 2., 7., 0.],\n",
       "       [3., 2., 9., 1., 2.]])"
      ]
     },
     "execution_count": 61,
     "metadata": {},
     "output_type": "execute_result"
    }
   ],
   "source": [
    "# Multiply the ones array with the latest array\n",
    "multiply_array = m * l\n",
    "multiply_array"
   ]
  },
  {
   "cell_type": "code",
   "execution_count": 62,
   "metadata": {},
   "outputs": [
    {
     "data": {
      "text/plain": [
       "array([[16.,  0.,  1., 25.,  0.],\n",
       "       [ 9.,  1.,  4., 49.,  0.],\n",
       "       [ 9.,  4., 81.,  1.,  4.]])"
      ]
     },
     "execution_count": 62,
     "metadata": {},
     "output_type": "execute_result"
    }
   ],
   "source": [
    "# Take the latest array to the power of 2 using '**'\n",
    "multiply_array ** 2"
   ]
  },
  {
   "cell_type": "code",
   "execution_count": 64,
   "metadata": {},
   "outputs": [
    {
     "data": {
      "text/plain": [
       "array([[16.,  0.,  1., 25.,  0.],\n",
       "       [ 9.,  1.,  4., 49.,  0.],\n",
       "       [ 9.,  4., 81.,  1.,  4.]])"
      ]
     },
     "execution_count": 64,
     "metadata": {},
     "output_type": "execute_result"
    }
   ],
   "source": [
    "# Do the same thing with np.square()\n",
    "n = np.square(multiply_array)\n",
    "n"
   ]
  },
  {
   "cell_type": "code",
   "execution_count": 65,
   "metadata": {},
   "outputs": [
    {
     "data": {
      "text/plain": [
       "13.6"
      ]
     },
     "execution_count": 65,
     "metadata": {},
     "output_type": "execute_result"
    }
   ],
   "source": [
    "# Find the mean of the latest array using np.mean()\n",
    "np.mean(n)"
   ]
  },
  {
   "cell_type": "code",
   "execution_count": 66,
   "metadata": {},
   "outputs": [
    {
     "data": {
      "text/plain": [
       "81.0"
      ]
     },
     "execution_count": 66,
     "metadata": {},
     "output_type": "execute_result"
    }
   ],
   "source": [
    "# Find the maximum of the latest array using np.max()\n",
    "np.max(n)"
   ]
  },
  {
   "cell_type": "code",
   "execution_count": 67,
   "metadata": {},
   "outputs": [
    {
     "data": {
      "text/plain": [
       "0.0"
      ]
     },
     "execution_count": 67,
     "metadata": {},
     "output_type": "execute_result"
    }
   ],
   "source": [
    "# Find the minimum of the latest array using np.min()\n",
    "np.min(n)"
   ]
  },
  {
   "cell_type": "code",
   "execution_count": 68,
   "metadata": {},
   "outputs": [
    {
     "data": {
      "text/plain": [
       "22.03270296627266"
      ]
     },
     "execution_count": 68,
     "metadata": {},
     "output_type": "execute_result"
    }
   ],
   "source": [
    "# Find the standard deviation of the latest array\n",
    "np.std(n)"
   ]
  },
  {
   "cell_type": "code",
   "execution_count": 69,
   "metadata": {},
   "outputs": [
    {
     "data": {
      "text/plain": [
       "485.44"
      ]
     },
     "execution_count": 69,
     "metadata": {},
     "output_type": "execute_result"
    }
   ],
   "source": [
    "# Find the variance of the latest array\n",
    "np.var(n)"
   ]
  },
  {
   "cell_type": "code",
   "execution_count": 71,
   "metadata": {},
   "outputs": [
    {
     "data": {
      "text/plain": [
       "array([[[16.],\n",
       "        [ 0.],\n",
       "        [ 1.],\n",
       "        [25.],\n",
       "        [ 0.]],\n",
       "\n",
       "       [[ 9.],\n",
       "        [ 1.],\n",
       "        [ 4.],\n",
       "        [49.],\n",
       "        [ 0.]],\n",
       "\n",
       "       [[ 9.],\n",
       "        [ 4.],\n",
       "        [81.],\n",
       "        [ 1.],\n",
       "        [ 4.]]])"
      ]
     },
     "execution_count": 71,
     "metadata": {},
     "output_type": "execute_result"
    }
   ],
   "source": [
    "# Reshape the latest array to (3, 5, 1)\n",
    "o = n.reshape(3,5,1)\n",
    "o"
   ]
  },
  {
   "cell_type": "code",
   "execution_count": 73,
   "metadata": {},
   "outputs": [
    {
     "data": {
      "text/plain": [
       "array([[[16.,  9.,  9.],\n",
       "        [ 0.,  1.,  4.],\n",
       "        [ 1.,  4., 81.],\n",
       "        [25., 49.,  1.],\n",
       "        [ 0.,  0.,  4.]]])"
      ]
     },
     "execution_count": 73,
     "metadata": {},
     "output_type": "execute_result"
    }
   ],
   "source": [
    "# Transpose the latest array\n",
    "transposed_array = o.T\n",
    "transposed_array\n",
    "# intercambia filas por columnas "
   ]
  },
  {
   "cell_type": "markdown",
   "metadata": {},
   "source": [
    "What does the transpose do?"
   ]
  },
  {
   "cell_type": "code",
   "execution_count": 76,
   "metadata": {},
   "outputs": [
    {
     "name": "stdout",
     "output_type": "stream",
     "text": [
      "El primer arreglo es:\n",
      "[[5 0 3]\n",
      " [3 7 9]\n",
      " [3 5 2]]\n",
      "Mientras que el segundo es:\n",
      "[[4 7]\n",
      " [6 8]\n",
      " [8 1]]\n"
     ]
    }
   ],
   "source": [
    "# Create two arrays of random integers between 0 to 10\n",
    "# one of size (3, 3) the other of size (3, 2)\n",
    "np.random.seed(0)\n",
    "\n",
    "matrix1 = np.random.randint(0, 10, size=(3,3))\n",
    "matrix2 = np.random.randint(0, 10, size=(3,2))\n",
    "\n",
    "print(f\"El primer arreglo es:\\n{matrix1}\\nMientras que el segundo es:\\n{matrix2}\")"
   ]
  },
  {
   "cell_type": "code",
   "execution_count": 77,
   "metadata": {},
   "outputs": [
    {
     "data": {
      "text/plain": [
       "array([[ 44,  38],\n",
       "       [126,  86],\n",
       "       [ 58,  63]])"
      ]
     },
     "execution_count": 77,
     "metadata": {},
     "output_type": "execute_result"
    }
   ],
   "source": [
    "# Perform a dot product on the two newest arrays you created\n",
    "matrix3 = np.dot(matrix1, matrix2)\n",
    "matrix3"
   ]
  },
  {
   "cell_type": "code",
   "execution_count": 79,
   "metadata": {},
   "outputs": [
    {
     "name": "stdout",
     "output_type": "stream",
     "text": [
      "El primer arreglo es:\n",
      "[[5 0 3]\n",
      " [3 7 9]\n",
      " [3 5 2]\n",
      " [4 7 6]]\n",
      "Mientras que el segundo es:\n",
      "[[8 8 1]\n",
      " [6 7 7]\n",
      " [8 1 5]\n",
      " [9 8 9]]\n"
     ]
    }
   ],
   "source": [
    "# Create two arrays of random integers between 0 to 10\n",
    "# both of size (4, 3)\n",
    "np.random.seed(0)\n",
    "\n",
    "matrix4 = np.random.randint(0, 10, size=(4,3))\n",
    "matrix5 = np.random.randint(0, 10, size=(4,3))\n",
    "\n",
    "print(f\"El primer arreglo es:\\n{matrix4}\\nMientras que el segundo es:\\n{matrix5}\")"
   ]
  },
  {
   "cell_type": "code",
   "execution_count": 80,
   "metadata": {},
   "outputs": [
    {
     "ename": "ValueError",
     "evalue": "shapes (4,3) and (4,3) not aligned: 3 (dim 1) != 4 (dim 0)",
     "output_type": "error",
     "traceback": [
      "\u001b[1;31m---------------------------------------------------------------------------\u001b[0m",
      "\u001b[1;31mValueError\u001b[0m                                Traceback (most recent call last)",
      "Cell \u001b[1;32mIn[80], line 2\u001b[0m\n\u001b[0;32m      1\u001b[0m \u001b[38;5;66;03m# Perform a dot product on the two newest arrays you created\u001b[39;00m\n\u001b[1;32m----> 2\u001b[0m matrix6 \u001b[38;5;241m=\u001b[39m np\u001b[38;5;241m.\u001b[39mdot(matrix4,matrix5)\n",
      "\u001b[1;31mValueError\u001b[0m: shapes (4,3) and (4,3) not aligned: 3 (dim 1) != 4 (dim 0)"
     ]
    }
   ],
   "source": [
    "# Perform a dot product on the two newest arrays you created\n",
    "matrix6 = np.dot(matrix4,matrix5)\n",
    "# no va a funcionar porque el numero de columnas de la primer matriz no es igual al \n",
    "# numero de filas de la segunda matriz, y sabemos que esa condicion se tiene que \n",
    "# cumplir para poder efectuar el producto punto entre las matrices correctamente.\n",
    "# Por lo tanto, para resolver este inconveniente sugiero trasponer la segunda matriz"
   ]
  },
  {
   "cell_type": "markdown",
   "metadata": {},
   "source": [
    "It doesn't work. How would you fix it?"
   ]
  },
  {
   "cell_type": "code",
   "execution_count": 81,
   "metadata": {},
   "outputs": [
    {
     "data": {
      "text/plain": [
       "array([[ 43,  51,  55,  72],\n",
       "       [ 89, 130,  76, 164],\n",
       "       [ 66,  67,  39,  85],\n",
       "       [ 94, 115,  69, 146]])"
      ]
     },
     "execution_count": 81,
     "metadata": {},
     "output_type": "execute_result"
    }
   ],
   "source": [
    "# Take the latest two arrays, perform a transpose on one of them and then perform \n",
    "# a dot product on them both\n",
    "matrix6 = np.dot(matrix4,matrix5.T)\n",
    "matrix6\n",
    "\n",
    "# La función np.dot() realiza el producto punto entre a y b \n",
    "# Retornará ValueError si la última dimensión de `a` no tiene el mismo tamaño que \n",
    "# la penúltima dimensión de `b`; es decir si la cantidad de columnas de a\n",
    "# es distinta de la cantidad de filas de b arrojará error."
   ]
  },
  {
   "cell_type": "markdown",
   "metadata": {},
   "source": [
    "Notice how performing a transpose allows the dot product to happen.\n",
    "\n",
    "Why is this?\n",
    "\n",
    "Checking out the documentation on [`np.dot()`](https://docs.scipy.org/doc/numpy/reference/generated/numpy.dot.html) may help, as well as reading [Math is Fun's guide on the dot product](https://www.mathsisfun.com/algebra/vectors-dot-product.html).\n",
    "\n",
    "Let's now compare arrays."
   ]
  },
  {
   "cell_type": "code",
   "execution_count": 5,
   "metadata": {},
   "outputs": [
    {
     "name": "stdout",
     "output_type": "stream",
     "text": [
      "El primer arreglo es:\n",
      "[[9 7 1 0 9 8]\n",
      " [8 8 9 7 7 8]\n",
      " [0 9 2 5 3 3]]\n",
      "Mientras que el segundo es:\n",
      "[[3 9 8 7 5 8]\n",
      " [6 0 1 9 9 0]\n",
      " [2 2 5 8 3 0]]\n"
     ]
    }
   ],
   "source": [
    "# Create two arrays of random integers between 0 & 10 of the same shape\n",
    "# and save them to variables\n",
    "np.random.seed(35)\n",
    "\n",
    "matrix7 = np.random.randint(0, 10, size=(3,6))\n",
    "matrix8 = np.random.randint(0, 10, size=(3,6))\n",
    "\n",
    "print(f\"El primer arreglo es:\\n{matrix7}\\nMientras que el segundo es:\\n{matrix8}\")"
   ]
  },
  {
   "cell_type": "code",
   "execution_count": 4,
   "metadata": {},
   "outputs": [
    {
     "data": {
      "text/plain": [
       "array([[ True, False, False, False,  True, False],\n",
       "       [ True,  True,  True, False, False,  True],\n",
       "       [False,  True, False, False, False,  True]])"
      ]
     },
     "execution_count": 4,
     "metadata": {},
     "output_type": "execute_result"
    }
   ],
   "source": [
    "# Compare the two arrays with '>'\n",
    "matrix7 > matrix8\n",
    "\n",
    "# Compara elemento por elemento entre las dos matrices y verfica\n",
    "# si el elemento de la primera matriz es mayor que el elemento de\n",
    "# la segunda matriz, de ser cierto, retorna True, de lo contrario,\n",
    "# retorna False."
   ]
  },
  {
   "cell_type": "markdown",
   "metadata": {},
   "source": [
    "What happens when you compare the arrays with `>`?"
   ]
  },
  {
   "cell_type": "code",
   "execution_count": 3,
   "metadata": {},
   "outputs": [
    {
     "data": {
      "text/plain": [
       "array([[ True, False, False, False,  True,  True],\n",
       "       [ True,  True,  True, False, False,  True],\n",
       "       [False,  True, False, False,  True,  True]])"
      ]
     },
     "execution_count": 3,
     "metadata": {},
     "output_type": "execute_result"
    }
   ],
   "source": [
    "# Compare the two arrays with '>='\n",
    "matrix7 >= matrix8"
   ]
  },
  {
   "cell_type": "code",
   "execution_count": 87,
   "metadata": {},
   "outputs": [
    {
     "name": "stdout",
     "output_type": "stream",
     "text": [
      "El primer arreglo es:\n",
      "[[9 7 1 0 9 8]\n",
      " [8 8 9 7 7 8]\n",
      " [0 9 2 5 3 3]]\n",
      "Son sus elementos mayor a 7?\n",
      "[[ True False False False  True  True]\n",
      " [ True  True  True False False  True]\n",
      " [False  True False False False False]]\n"
     ]
    }
   ],
   "source": [
    "# Find which elements of the first array are greater than 7\n",
    "print(f\"El primer arreglo es:\\n{matrix7}\\nSon sus elementos mayor a 7?\\n{matrix7 > 7}\")"
   ]
  },
  {
   "cell_type": "code",
   "execution_count": 6,
   "metadata": {},
   "outputs": [
    {
     "data": {
      "text/plain": [
       "array([[False, False, False, False, False,  True],\n",
       "       [False, False, False, False, False, False],\n",
       "       [False, False, False, False,  True, False]])"
      ]
     },
     "execution_count": 6,
     "metadata": {},
     "output_type": "execute_result"
    }
   ],
   "source": [
    "# Which parts of each array are equal? (try using '==')\n",
    "# print(f\"El primer arreglo es:\\n{matrix7}\\nSon sus elementos iguales a 7?\\n{matrix7 == 7}\")\n",
    "matrix7 == matrix8"
   ]
  },
  {
   "cell_type": "code",
   "execution_count": 91,
   "metadata": {},
   "outputs": [
    {
     "data": {
      "text/plain": [
       "array([[0, 1, 7, 8, 9, 9],\n",
       "       [7, 7, 8, 8, 8, 9],\n",
       "       [0, 2, 3, 3, 5, 9]])"
      ]
     },
     "execution_count": 91,
     "metadata": {},
     "output_type": "execute_result"
    }
   ],
   "source": [
    "# Sort one of the arrays you just created in ascending order\n",
    "np.sort(matrix7)"
   ]
  },
  {
   "cell_type": "code",
   "execution_count": 14,
   "metadata": {},
   "outputs": [
    {
     "name": "stdout",
     "output_type": "stream",
     "text": [
      "The array that we have to sort is:\n",
      "[[9 7 1 0 9 8]\n",
      " [8 8 9 7 7 8]\n",
      " [0 9 2 5 3 3]]\n",
      "The indices that would sorted the array are:\n"
     ]
    },
    {
     "data": {
      "text/plain": [
       "array([[3, 2, 1, 5, 0, 4],\n",
       "       [3, 4, 0, 1, 5, 2],\n",
       "       [0, 2, 4, 5, 3, 1]], dtype=int64)"
      ]
     },
     "execution_count": 14,
     "metadata": {},
     "output_type": "execute_result"
    }
   ],
   "source": [
    "# Sort the indexes of one of the arrays you just created\n",
    "print(f\"The array that we have to sort is:\\n{matrix7}\")\n",
    "print(\"The indices that would sorted the array are:\")\n",
    "np.argsort(matrix7, axis=1)"
   ]
  },
  {
   "cell_type": "markdown",
   "metadata": {},
   "source": [
    "Primera fila:     [9 7 1 0 9 8]\n",
    "        index:     0 1 2 3 4 5\n",
    "fila ordenada     [0 1 7 8 9 9] valores ordenados\n",
    "        index:     3 2 1 5 0 4     \n",
    "si queres ordenar la fila de forma creciente entonces:\n",
    "lo que estaba en la posicion 3 (el 0) ponelo primero, adelante de todo;\n",
    "lo que estaba en la posicion 2 (el 1) ponelo segundo;\n",
    "lo que estaba en la posicion 1 (el 7) ponelo tercero;\n",
    "lo que estaba en la posicion 5 (el 8) ponelo cuarto ;\n",
    "lo que estaba en la posicion 0 (el 9) ponelo quinto;\n",
    "lo que estaba en la posicion 4 (el otro 9) ponelo sexto\n",
    "\n",
    "Cuando ejecutas np.argsort(matrix7, axis=1), estás ordenando cada fila de la matriz. \n",
    "Los valores en cada fila se ordenan, pero lo que argsort devuelve son los índices que \n",
    "te permitirían obtener esa ordenación.\n",
    "\n",
    "La primera fila de la matriz original es [9, 7, 1, 0, 9, 8].\n",
    "El array de índices resultante para esta fila es [3, 2, 1, 5, 0, 4].\n",
    "Esto significa lo siguiente:\n",
    "El valor más pequeño (0) está en la posición 3 de la fila original.\n",
    "El valor 1 está en la posición 2 de la fila original.\n",
    "El valor 7 está en la posición 1.\n",
    "El valor 8 está en la posición 5.\n",
    "El valor 9 (primer 9) está en la posición 0.\n",
    "El valor 9 (segundo 9) está en la posición 4.\n",
    "Por lo tanto, la fila ordenada sería [0, 1, 7, 8, 9, 9] y esos son los índices que te devuelve argsort."
   ]
  },
  {
   "cell_type": "code",
   "execution_count": 16,
   "metadata": {},
   "outputs": [
    {
     "name": "stdout",
     "output_type": "stream",
     "text": [
      "The array we have created is is:\n",
      "[[9 7 1 0 9 8]\n",
      " [8 8 9 7 7 8]\n",
      " [0 9 2 5 3 3]]\n",
      "The index with the maximum value in matrix 7 is:\n",
      "\n"
     ]
    },
    {
     "data": {
      "text/plain": [
       "array([0, 2, 1], dtype=int64)"
      ]
     },
     "execution_count": 16,
     "metadata": {},
     "output_type": "execute_result"
    }
   ],
   "source": [
    "# Find the index with the maximum value in one of the arrays you've created\n",
    "print(f\"The array we have created is is:\\n{matrix7}\")\n",
    "print(\"The index with the maximum value in matrix 7 is:\\n\")\n",
    "np.argmax(matrix7, axis=1)"
   ]
  },
  {
   "cell_type": "markdown",
   "metadata": {},
   "source": [
    "la primera componente del array dice que el valor maximo de la primera fila está en el indice 0 (que corresponde al primer 9).\n",
    "la segunda componente del array dice que el valor maximo de la segunda fila está en el indice 2 (que corresponde al 9).\n",
    "la tercera componente del array dice que el valor maximo de la tercera fila está en el indice 1 (que corresponde al 9).\n",
    "\n",
    "Primera fila [9, 7, 1, 0, 9, 8]:\n",
    "\n",
    "El valor máximo en la primera fila es 9.\n",
    "El valor máximo de la primera fila está en la posición 0 (primer elemento), que es el valor 9.\n",
    "Segunda fila [8, 8, 9, 7, 7, 8]:\n",
    "\n",
    "El valor máximo en la segunda fila es 9.\n",
    "El valor máximo de la segunda fila está en la posición 2, que es el valor 9.\n",
    "Tercera fila [0, 9, 2, 5, 3, 3]:\n",
    "\n",
    "El valor máximo en la tercera fila es 9.\n",
    "El valor máximo de la tercera fila está en la posición 1, que es el valor 9.\n",
    "\n",
    "El valor máximo es 9 en todas las filas, y np.argmax(matrix7, axis=1) devuelve los índices de las posiciones donde se encuentran estos valores máximos.\n",
    "\n",
    "El valor máximo de la primera fila está en el índice 0 (que corresponde al primer 9).\n",
    "El valor máximo de la segunda fila está en el índice 2 (que corresponde al 9).\n",
    "El valor máximo de la tercera fila está en el índice 1 (que corresponde al 9).\n",
    "\n",
    "Así que la interpretación sería:\n",
    "\n",
    "La primera componente del array dice que el valor máximo de la primera fila está en el índice 0 (el primer 9).\n",
    "La segunda componente del array dice que el valor máximo de la segunda fila está en el índice 2 (el 9 en la tercera posición).\n",
    "La tercera componente del array dice que el valor máximo de la tercera fila está en el índice 1 (el 9 en la segunda posición)."
   ]
  },
  {
   "cell_type": "code",
   "execution_count": 18,
   "metadata": {},
   "outputs": [
    {
     "name": "stdout",
     "output_type": "stream",
     "text": [
      "The array we have created is is:\n",
      "[[9 7 1 0 9 8]\n",
      " [8 8 9 7 7 8]\n",
      " [0 9 2 5 3 3]]\n",
      "The index with the minimu value in matrix 7 is:\n",
      "\n"
     ]
    },
    {
     "data": {
      "text/plain": [
       "3"
      ]
     },
     "execution_count": 18,
     "metadata": {},
     "output_type": "execute_result"
    }
   ],
   "source": [
    "# Find the index with the minimum value in one of the arrays you've created\n",
    "print(f\"The array we have created is is:\\n{matrix7}\")\n",
    "print(\"The index with the minimu value in matrix 7 is:\\n\")\n",
    "np.argmin(matrix7)\n",
    "\n",
    "# Este metodo busca el índice donde se encuentra el valor mínimo \n",
    "# en todo el array de la matriz (sin importar la fila o columna)\n",
    "\n",
    "# Esto devuelve un solo índice que corresponde al índice lineal dentro del array plano."
   ]
  },
  {
   "cell_type": "markdown",
   "metadata": {},
   "source": [
    "El indice en el que se encuentra el valor minimo de todo el array es 3.\n",
    "\n",
    "El numero mas pequeño de la matriz es el 0 y vemos la primera ocurrencia de\n",
    "este elemento se da en la posición 3. Por lo tanto, tiene sentido que el\n",
    "resultado sea 3\n",
    "\n",
    "En este caso, la respuesta fue 3, lo que significa que el valor mínimo en toda \n",
    "la matriz se encuentra en la posición 3 del array plano (es decir, el valor mínimo \n",
    "en el array tiene su índice 3 cuando lo \"aplanamos\" a un solo vector).\n",
    "\n",
    "La matriz original es:\n",
    "[[9 7 1 0 9 8]\n",
    " [8 8 9 7 7 8]\n",
    " [0 9 2 5 3 3]]\n",
    "Si aplanamos esta matriz en un solo array de 18 elementos, el índice 3 corresponde al siguiente array plano:\n",
    "[9, 7, 1, 0, 9, 8, 8, 8, 9, 7, 7, 8, 0, 9, 2, 5, 3, 3]\n",
    "En este array plano, el valor mínimo (0) se encuentra en la posición 3 (empezando desde 0)."
   ]
  },
  {
   "cell_type": "code",
   "execution_count": 20,
   "metadata": {},
   "outputs": [
    {
     "data": {
      "text/plain": [
       "array([3, 3, 0], dtype=int64)"
      ]
     },
     "execution_count": 20,
     "metadata": {},
     "output_type": "execute_result"
    }
   ],
   "source": [
    "# Find the indexes with the maximum values down the 1st axis (axis=1)\n",
    "# of one of the arrays you created\n",
    "np.argmin(matrix7, axis=1)"
   ]
  },
  {
   "cell_type": "code",
   "execution_count": 21,
   "metadata": {},
   "outputs": [
    {
     "data": {
      "text/plain": [
       "array([2, 0, 0, 0, 2, 2], dtype=int64)"
      ]
     },
     "execution_count": 21,
     "metadata": {},
     "output_type": "execute_result"
    }
   ],
   "source": [
    "# Find the indexes with the minimum values across the 0th axis (axis=0)\n",
    "# of one of the arrays you created\n",
    "np.argmin(matrix7, axis=0)"
   ]
  },
  {
   "cell_type": "code",
   "execution_count": 25,
   "metadata": {},
   "outputs": [
    {
     "data": {
      "text/plain": [
       "array([[ 0.17640523,  0.04001572,  0.0978738 ,  0.22408932,  0.1867558 ],\n",
       "       [-0.09772779,  0.09500884, -0.01513572, -0.01032189,  0.04105985],\n",
       "       [ 0.01440436,  0.14542735,  0.07610377,  0.0121675 ,  0.04438632]])"
      ]
     },
     "execution_count": 25,
     "metadata": {},
     "output_type": "execute_result"
    }
   ],
   "source": [
    "# Create an array of normally distributed random numbers\n",
    "mu = 0    # Media (centro de la distribución)\n",
    "sigma = 0.1    # Desviación estándar (dispersión de los datos)\n",
    "matrix9 = np.random.normal(mu, sigma, size=(3,5))\n",
    "matrix9\n",
    "# Extrae muestras aleatorias de una distribución normal (gaussiana).\n",
    "\n",
    "# otra opcion: np.random.randn(3, 5) "
   ]
  },
  {
   "cell_type": "code",
   "execution_count": 24,
   "metadata": {},
   "outputs": [
    {
     "data": {
      "text/plain": [
       "array([  1.,  12.,  23.,  34.,  45.,  56.,  67.,  78.,  89., 100.])"
      ]
     },
     "execution_count": 24,
     "metadata": {},
     "output_type": "execute_result"
    }
   ],
   "source": [
    "# Create an array with 10 evenly spaced numbers between 1 and 100\n",
    "np.random.seed(0)\n",
    "array = np.linspace(1, 100, num=10)\n",
    "array\n",
    "# linspase devuelve números espaciados uniformemente en un intervalo especificado."
   ]
  },
  {
   "cell_type": "markdown",
   "metadata": {},
   "source": [
    "## Extensions\n",
    "\n",
    "For more exercises, check out the [NumPy quickstart tutorial](https://numpy.org/doc/stable/user/quickstart.html). A good practice would be to read through it and for the parts you find interesting, add them into the end of this notebook.\n",
    "\n",
    "Pay particular attention to the section on broadcasting. And most importantly, get hands-on with the code as much as possible. If in dobut, run the code, see what it does.\n",
    "\n",
    "The next place you could go is the [Stack Overflow page for the top questions and answers for NumPy](https://stackoverflow.com/questions/tagged/numpy?sort=MostVotes&edited=true). Often, you'll find some of the most common and useful NumPy functions here. Don't forget to play around with the filters! You'll likely find something helpful here.\n",
    "\n",
    "Finally, as always, remember, the best way to learn something new is to try it. And try it relentlessly. If you get interested in some kind of NumPy function, asking yourself, \"I wonder if NumPy could do that?\", go and find out."
   ]
  }
 ],
 "metadata": {
  "kernelspec": {
   "display_name": "Python 3 (ipykernel)",
   "language": "python",
   "name": "python3"
  },
  "language_info": {
   "codemirror_mode": {
    "name": "ipython",
    "version": 3
   },
   "file_extension": ".py",
   "mimetype": "text/x-python",
   "name": "python",
   "nbconvert_exporter": "python",
   "pygments_lexer": "ipython3",
   "version": "3.12.8"
  }
 },
 "nbformat": 4,
 "nbformat_minor": 4
}
